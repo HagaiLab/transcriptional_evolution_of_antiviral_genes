{
 "cells": [
  {
   "cell_type": "code",
   "execution_count": 1,
   "id": "396caab8",
   "metadata": {},
   "outputs": [],
   "source": [
    "# this script plots the gene age and gene gain and loss p-values of the 4 groups compare to the all DE genes \n",
    "# mann whitney is between each grop and the DE group"
   ]
  },
  {
   "cell_type": "code",
   "execution_count": 3,
   "id": "d2e07292",
   "metadata": {},
   "outputs": [],
   "source": [
    "\n",
    "import numpy as np\n",
    "import pandas as pd\n",
    "import seaborn as sns\n",
    "import matplotlib as mpl\n",
    "import matplotlib.pyplot as plt\n",
    "from sklearn import preprocessing\n",
    "from sklearn.decomposition import PCA\n",
    "\n",
    "import math\n",
    "from math import log\n",
    "import re\n",
    "import ast\n",
    "import scipy\n",
    "from pandas import Series\n",
    "\n",
    "import itertools\n",
    "from collections import defaultdict\n",
    "\n",
    "import collections\n",
    "\n",
    "from collections import Counter\n",
    "import os\n",
    "#import row_matchers\n"
   ]
  },
  {
   "cell_type": "code",
   "execution_count": null,
   "id": "a229eb1d",
   "metadata": {},
   "outputs": [],
   "source": []
  },
  {
   "cell_type": "markdown",
   "id": "eb9279f2",
   "metadata": {},
   "source": [
    "# the cross with DE here is also FC>0!!!!!!!"
   ]
  },
  {
   "cell_type": "code",
   "execution_count": 4,
   "id": "e80c4b0b",
   "metadata": {},
   "outputs": [],
   "source": [
    "plt.rcParams['pdf.fonttype'] = 42\n",
    "plt.rcParams['ps.fonttype'] = 42"
   ]
  },
  {
   "cell_type": "code",
   "execution_count": 5,
   "id": "c08b553a",
   "metadata": {},
   "outputs": [],
   "source": [
    "\n",
    "stim_high_col='#88419d'\n",
    "stim_other_col='#8c97c6'\n",
    "stim_low_col='#c0d4e6'\n",
    "\n",
    "\n",
    "unst_high_col='#2b8cbe'\n",
    "unst_other_col='#7cccc4'\n",
    "unst_low_col='#ccebc6'\n"
   ]
  },
  {
   "cell_type": "code",
   "execution_count": null,
   "id": "cfe38193",
   "metadata": {},
   "outputs": [],
   "source": []
  },
  {
   "cell_type": "code",
   "execution_count": 6,
   "id": "1e0f9dda",
   "metadata": {},
   "outputs": [],
   "source": [
    "# open the big metadatand leave only 1-1\n",
    "human_mouse_ortho=pd.read_csv(r\"C:\\Users\\TzachiHNB6\\Documents\\lilach's paper\\fig6\\input\\1-1_human_mouse_metadata.csv\",index_col=0)\n",
    "human_mouse_ortho_1_1=human_mouse_ortho[human_mouse_ortho['Mouse homology type']=='ortholog_one2one']\n",
    "human_mouse_ortho_1_1\n",
    "\n",
    "\n",
    "human_mouse_ortho_1_1.columns\n",
    "\n",
    "# create 1-1 dict mouse>human ens names \n",
    "human_mouse_ortho_1_1_dict=dict(zip(human_mouse_ortho_1_1['Mouse gene stable ID'],human_mouse_ortho_1_1.index))"
   ]
  },
  {
   "cell_type": "code",
   "execution_count": 8,
   "id": "e2872439",
   "metadata": {},
   "outputs": [
    {
     "name": "stdout",
     "output_type": "stream",
     "text": [
      "579\n",
      "224\n",
      "519\n",
      "166\n",
      "498\n",
      "104\n",
      "476\n",
      "84\n"
     ]
    }
   ],
   "source": [
    "# define the groups: \n",
    "\n",
    "study='Hagai'\n",
    "species=['homo','mus']\n",
    "if species==['homo','mus']:\n",
    "    species_full_names=['Homo sapiens','Mus musculus']\n",
    "treats=['LF4','PIC4']\n",
    "    \n",
    "    \n",
    "\n",
    "\n",
    "df_groups=pd.read_csv(r\"C:\\Users\\TzachiHNB6\\Documents\\lilach's paper\\fig6\\input\\{}_{}_vs_{}_{}_and_{}_groups_results.csv\".format(study,species[0],species[1],treats[0],treats[1]),index_col=0)\n",
    "df_groups\n",
    "\n",
    "DE_genes_FC_values_df=pd.read_csv(r\"C:\\Users\\TzachiHNB6\\Documents\\lilach's paper\\fig6\\input\\DE_genes_human_mouse_pic.csv\",index_col=1)\n",
    "\n",
    "DE_genes=DE_genes_FC_values_df.index\n",
    "non_DE_genes=[i for i in human_mouse_ortho_1_1.index] #if i not in DE_genes]\n",
    "\n",
    "# stim groups - high and low\n",
    "group_stim_high=df_groups[(df_groups[f'group_{treats[1]}']==f'{treats[1]}_high_strict')|(df_groups[f'group_{treats[1]}']==f'{treats[1]}_high_moderate')]\n",
    "print(len(group_stim_high.index))\n",
    "group_stim_high_and_DE=[i for i in group_stim_high.index if i in DE_genes_FC_values_df.index]\n",
    "print(len(group_stim_high_and_DE))\n",
    "\n",
    "\n",
    "group_stim_low=df_groups[(df_groups[f'group_{treats[1]}']==f'{treats[1]}_low_strict')|(df_groups[f'group_{treats[1]}']==f'{treats[1]}_low_moderate')]\n",
    "print(len(group_stim_low.index))\n",
    "group_stim_low_and_DE=[i for i in group_stim_low.index if i in DE_genes_FC_values_df.index]\n",
    "print(len(group_stim_low_and_DE))\n",
    "\n",
    "\n",
    "# unst groups - high and low\n",
    "group_unst_high=df_groups[(df_groups[f'group_{treats[0]}']==f'{treats[0]}_high_strict')|(df_groups[f'group_{treats[0]}']==f'{treats[0]}_high_moderate')]\n",
    "print(len(group_unst_high.index))\n",
    "group_unst_high_and_DE=[i for i in group_unst_high.index if i in DE_genes_FC_values_df.index]\n",
    "print(len(group_unst_high_and_DE))\n",
    "\n",
    "\n",
    "group_unst_low=df_groups[(df_groups[f'group_{treats[0]}']==f'{treats[0]}_low_strict')|(df_groups[f'group_{treats[0]}']==f'{treats[0]}_low_moderate')]\n",
    "print(len(group_unst_low.index))\n",
    "group_unst_low_and_DE=[i for i in group_unst_low.index if i in DE_genes_FC_values_df.index]\n",
    "print(len(group_unst_low_and_DE))\n"
   ]
  },
  {
   "cell_type": "code",
   "execution_count": null,
   "id": "79efa80c",
   "metadata": {},
   "outputs": [],
   "source": []
  },
  {
   "cell_type": "code",
   "execution_count": 9,
   "id": "c830842d",
   "metadata": {},
   "outputs": [
    {
     "data": {
      "text/plain": [
       "901"
      ]
     },
     "execution_count": 9,
     "metadata": {},
     "output_type": "execute_result"
    }
   ],
   "source": [
    "DE_genes_not_in_4_groups=[i for i in DE_genes if (i not in group_stim_high_and_DE) &\n",
    "                          (i not in group_stim_low_and_DE) &\n",
    "                          (i not in group_unst_high_and_DE) &\n",
    "                          (i not in group_unst_low_and_DE)]\n",
    "len(DE_genes_not_in_4_groups)"
   ]
  },
  {
   "cell_type": "code",
   "execution_count": 10,
   "id": "87f7b5a6",
   "metadata": {},
   "outputs": [],
   "source": [
    "old_names_to_new_names_dict={'STIM-high':'human constitutive-low',\n",
    "                             'STIM-low':'mouse constitutive-low',\n",
    "                             'UNST-high':'mouse constitutive-high',\n",
    "                             'UNST-low':'human constitutive-high'\n",
    "                             \n",
    "                            }\n"
   ]
  },
  {
   "cell_type": "code",
   "execution_count": null,
   "id": "0ecc9aa0",
   "metadata": {},
   "outputs": [],
   "source": []
  },
  {
   "cell_type": "code",
   "execution_count": null,
   "id": "733dc4fe",
   "metadata": {},
   "outputs": [],
   "source": [
    "# p- identity"
   ]
  },
  {
   "cell_type": "code",
   "execution_count": 11,
   "id": "44ed00a6",
   "metadata": {},
   "outputs": [],
   "source": [
    "data_to_plot=pd.DataFrame()\n"
   ]
  },
  {
   "cell_type": "code",
   "execution_count": 14,
   "id": "bde89db9",
   "metadata": {},
   "outputs": [
    {
     "name": "stdout",
     "output_type": "stream",
     "text": [
      "rest of DE genes\n",
      "1473\n",
      "STIM-high\n",
      "224\n",
      "STIM-low\n",
      "166\n",
      "UNST-high\n",
      "104\n",
      "UNST-low\n",
      "84\n"
     ]
    }
   ],
   "source": [
    "data_to_plot['rest_1_1_orthos']=list(human_mouse_ortho_1_1.loc[[i for i in non_DE_genes if i in human_mouse_ortho_1_1.index]]['p_identity'])\n",
    "\n",
    "data_to_plot['rest_DE_genes']=list(human_mouse_ortho_1_1.loc[[i for i in DE_genes if i in human_mouse_ortho_1_1.index]]['p_identity'])+[np.nan]*(len(data_to_plot.index)-len(human_mouse_ortho_1_1.loc[[i for i in DE_genes if i in human_mouse_ortho_1_1.index]]['p_identity'].index))\n",
    "\n",
    "data_to_plot[f'{treats[1]}_high']=list(human_mouse_ortho_1_1.loc[[i for i in group_stim_high_and_DE if i in human_mouse_ortho_1_1.index]]['p_identity'])+[np.nan]*(len(data_to_plot.index)-len(human_mouse_ortho_1_1.loc[[i for i in group_stim_high_and_DE if i in human_mouse_ortho_1_1.index]]['p_identity'].index))\n",
    "\n",
    "data_to_plot[f'{treats[1]}_low']=list(human_mouse_ortho_1_1.loc[[i for i in group_stim_low_and_DE if i in human_mouse_ortho_1_1.index]]['p_identity'])+[np.nan]*(len(data_to_plot.index)-len(human_mouse_ortho_1_1.loc[[i for i in group_stim_low_and_DE if i in human_mouse_ortho_1_1.index]]['p_identity'].index))\n",
    "\n",
    "data_to_plot[f'{treats[0]}_high']=list(human_mouse_ortho_1_1.loc[[i for i in group_unst_high_and_DE if i in human_mouse_ortho_1_1.index]]['p_identity'])+[np.nan]*(len(data_to_plot.index)-len(human_mouse_ortho_1_1.loc[[i for i in group_unst_high_and_DE if i in human_mouse_ortho_1_1.index]]['p_identity'].index))\n",
    "\n",
    "data_to_plot[f'{treats[0]}_low']=list(human_mouse_ortho_1_1.loc[[i for i in group_unst_low_and_DE if i in human_mouse_ortho_1_1.index]]['p_identity'])+[np.nan]*(len(data_to_plot.index)-len(human_mouse_ortho_1_1.loc[[i for i in group_unst_low_and_DE if i in human_mouse_ortho_1_1.index]]['p_identity'].index))\n",
    "\n",
    "\n",
    "data_to_plot\n",
    "\n",
    "data_to_plot_new=data_to_plot[['rest_1_1_orthos','rest_DE_genes',f'{treats[1]}_high',f'{treats[1]}_low',f'{treats[0]}_high',f'{treats[0]}_low']]\n",
    "\n",
    "data_to_plot_new\n",
    "\n",
    "data_to_plot_new.rename(columns={'rest_1_1_orthos':'All_1-1_orthologs','rest_DE_genes':'rest of DE genes','PIC4_high':'STIM-high','PIC4_low':'STIM-low','LF4_high':'UNST-high','LF4_low':'UNST-low' },inplace=True)\n",
    "data_to_plot_new\n",
    "\n",
    "print('rest of DE genes')\n",
    "print(len(data_to_plot_new['rest of DE genes'].dropna()))\n",
    "print('STIM-high')\n",
    "print(len(data_to_plot_new['STIM-high'].dropna()))\n",
    "\n",
    "print('STIM-low')\n",
    "print(len(data_to_plot_new['STIM-low'].dropna()))\n",
    "\n",
    "print('UNST-high')\n",
    "print(len(data_to_plot_new['UNST-high'].dropna()))\n",
    "\n",
    "print('UNST-low')\n",
    "print(len(data_to_plot_new['UNST-low'].dropna()))\n",
    "\n"
   ]
  },
  {
   "cell_type": "code",
   "execution_count": null,
   "id": "2520ff5e",
   "metadata": {},
   "outputs": [],
   "source": []
  },
  {
   "cell_type": "code",
   "execution_count": 17,
   "id": "e3c0f65c",
   "metadata": {},
   "outputs": [
    {
     "name": "stderr",
     "output_type": "stream",
     "text": [
      "C:\\Users\\TzachiHNB6\\AppData\\Local\\Temp\\ipykernel_6100\\2738256649.py:13: UserWarning: set_ticklabels() should only be used with a fixed number of ticks, i.e. after set_ticks() or using a FixedLocator.\n",
      "  ax.set_xticklabels(labels=['All_1-1_orthologs','DE genes','human \\nconstitutive-low','mouse \\nconstitutive-low','mouse \\nconstitutive-high','human \\nconstitutive-high' ])# old: sns.boxplot(data=human_mouse_ortho_1_1,x='group',y='p_identity',order=['rest_1_1_orthos','rest_DE_genes','PIC4_high','PIC4_low','LF4_high','LF4_low'],palette='pastel')\n"
     ]
    },
    {
     "data": {
      "image/png": "[encoded data removed]",
      "text/plain": [
       "<Figure size 720x864 with 1 Axes>"
      ]
     },
     "metadata": {
      "needs_background": "light"
     },
     "output_type": "display_data"
    },
    {
     "name": "stdout",
     "output_type": "stream",
     "text": [
      "mann DE_PIC_high\n",
      "MannwhitneyuResult(statistic=166665.0, pvalue=0.4024099042073936)\n",
      "mann DE_PIC_low\n",
      "MannwhitneyuResult(statistic=145411.0, pvalue=3.102073905414815e-05)\n",
      "mann DE_LF_high\n",
      "MannwhitneyuResult(statistic=68934.0, pvalue=0.9561095263080364)\n",
      "mann DE_LF_low\n",
      "MannwhitneyuResult(statistic=59520.0, pvalue=0.7208759859095327)\n",
      "FDR\n",
      "[DE_PIC_high, DE_PIC_low, DE_LF_high, DE_LF_low]\n",
      "[0.4024099042073936, 3.102073905414815e-05, 0.9561095263080364, 0.7208759859095327]\n",
      "[8.04819808e-01 1.24082956e-04 9.56109526e-01 9.56109526e-01]\n"
     ]
    }
   ],
   "source": [
    "data=data_to_plot_new.copy()\n",
    "fig=plt.figure(figsize=(10,12))\n",
    "\n",
    "my_pal = { \"All_1-1_orthologs\": \"darkgrey\",\n",
    "    \"rest of DE genes\": \"grey\",\n",
    "              \"STIM-high\": stim_high_col, \"STIM-low\": stim_low_col,\n",
    "          \"UNST-high\": unst_high_col, \"UNST-low\": unst_low_col\n",
    "             }\n",
    "\n",
    "pvals_for_FDR=[]\n",
    "order=['All_1-1_orthologs','rest of DE genes','STIM-high','STIM-low','UNST-high','UNST-low']\n",
    "ax=sns.boxplot(data=data,order=order,palette=my_pal,width=0.7,showfliers = False)\n",
    "ax.set_xticklabels(labels=['All_1-1_orthologs','DE genes','human \\nconstitutive-low','mouse \\nconstitutive-low','mouse \\nconstitutive-high','human \\nconstitutive-high' ])# old: sns.boxplot(data=human_mouse_ortho_1_1,x='group',y='p_identity',order=['rest_1_1_orthos','rest_DE_genes','PIC4_high','PIC4_low','LF4_high','LF4_low'],palette='pastel')\n",
    "plt.tick_params(axis='y',labelsize =14)\n",
    "\n",
    "sns.despine(offset=10, trim=False,fig=fig)\n",
    "\n",
    "plt.tick_params(axis='x', which='both', labelsize=14,labelrotation=45)\n",
    "plt.ylabel('% identity',fontsize=20)\n",
    "plt.savefig(r\"C:\\Users\\TzachiHNB6\\Documents\\lilach's paper\\fig6\\figures\\per_identity.pdf\")\n",
    "plt.savefig(r\"C:\\Users\\TzachiHNB6\\Documents\\lilach's paper\\fig6\\figures\\per_identity.png\")\n",
    "\n",
    "plt.show()\n",
    "\n",
    "mann_w=scipy.stats.mannwhitneyu(x=data['rest of DE genes'].dropna(), y=data['STIM-high'].dropna(),alternative='greater')\n",
    "#mann_w=scipy.stats.mannwhitneyu(x=data[data['group']=='rest_DE_genes']['p_identity'], y=data[data['group']=='PIC4_high']['p_identity'])\n",
    "print('mann DE_PIC_high')\n",
    "print(mann_w)\n",
    "pvals_for_FDR.append(mann_w[1])\n",
    "\n",
    "\n",
    "mann_w=scipy.stats.mannwhitneyu(x=data['rest of DE genes'].dropna(), y=data['STIM-low'].dropna(),alternative='greater')\n",
    "#mann_w=scipy.stats.mannwhitneyu(x=data[data['group']=='rest_DE_genes']['p_identity'], y=data[data['group']=='PIC4_low']['p_identity'])\n",
    "print('mann DE_PIC_low')\n",
    "print(mann_w)\n",
    "pvals_for_FDR.append(mann_w[1])\n",
    "\n",
    "\n",
    "\n",
    "mann_w=scipy.stats.mannwhitneyu(x=data['rest of DE genes'].dropna(), y=data['UNST-high'].dropna(),alternative='greater')\n",
    "#mann_w=scipy.stats.mannwhitneyu(x=data[data['group']=='rest_DE_genes']['p_identity'], y=data[data['group']=='LF4_high']['p_identity'])\n",
    "print('mann DE_LF_high')\n",
    "print(mann_w)\n",
    "pvals_for_FDR.append(mann_w[1])\n",
    "\n",
    "\n",
    "\n",
    "mann_w=scipy.stats.mannwhitneyu(x=data['rest of DE genes'].dropna(), y=data['UNST-low'].dropna(),alternative='greater')\n",
    "#mann_w=scipy.stats.mannwhitneyu(x=data[data['group']=='rest_DE_genes']['p_identity'], y=data[data['group']=='LF4_low']['p_identity'])\n",
    "print('mann DE_LF_low')\n",
    "print(mann_w)\n",
    "pvals_for_FDR.append(mann_w[1])\n",
    "\n",
    "\n",
    "# when we had the 1-1 orthos inside.... \n",
    "####mann_w=scipy.stats.mannwhitneyu(x=data['rest_1_1_orthos'].dropna(), y=data['rest_DE_genes'].dropna(),alternative='greater')\n",
    "#mann_w=scipy.stats.mannwhitneyu(x=data[data['group']=='rest_DE_genes']['p_identity'], y=data[data['group']=='LF4_low']['p_identity'])\n",
    "####print('mann DE_nonDE(all)')\n",
    "####print(mann_w)\n",
    "\n",
    "\n",
    "print('FDR')\n",
    "print('[DE_PIC_high, DE_PIC_low, DE_LF_high, DE_LF_low]')\n",
    "print(pvals_for_FDR)\n",
    "from statsmodels.stats.multitest import fdrcorrection\n",
    "rejected, qvalue = fdrcorrection(pvals_for_FDR,method='indep')\n",
    "print(qvalue)\n"
   ]
  },
  {
   "cell_type": "code",
   "execution_count": null,
   "id": "bd642cd8",
   "metadata": {},
   "outputs": [],
   "source": []
  },
  {
   "cell_type": "code",
   "execution_count": 32,
   "id": "6da569c4",
   "metadata": {},
   "outputs": [],
   "source": [
    "# plot the dnds"
   ]
  },
  {
   "cell_type": "code",
   "execution_count": 19,
   "id": "76fdbceb",
   "metadata": {},
   "outputs": [],
   "source": [
    "data_to_plot=pd.DataFrame()\n",
    "\n"
   ]
  },
  {
   "cell_type": "code",
   "execution_count": 20,
   "id": "df7bd7f9",
   "metadata": {},
   "outputs": [],
   "source": [
    "data_to_plot['rest_1_1_orthos']=list(human_mouse_ortho_1_1.loc[[i for i in non_DE_genes if i in human_mouse_ortho_1_1.index]]['dnds'])\n",
    "\n",
    "data_to_plot['rest_DE_genes']=list(human_mouse_ortho_1_1.loc[[i for i in DE_genes if i in human_mouse_ortho_1_1.index]]['dnds'])+[np.nan]*(len(data_to_plot.index)-len(human_mouse_ortho_1_1.loc[[i for i in DE_genes if i in human_mouse_ortho_1_1.index]]['dnds'].index))\n",
    "\n",
    "data_to_plot[f'{treats[1]}_high']=list(human_mouse_ortho_1_1.loc[[i for i in group_stim_high_and_DE if i in human_mouse_ortho_1_1.index]]['dnds'])+[np.nan]*(len(data_to_plot.index)-len(human_mouse_ortho_1_1.loc[[i for i in group_stim_high_and_DE if i in human_mouse_ortho_1_1.index]]['dnds'].index))\n",
    "\n",
    "data_to_plot[f'{treats[1]}_low']=list(human_mouse_ortho_1_1.loc[[i for i in group_stim_low_and_DE if i in human_mouse_ortho_1_1.index]]['dnds'])+[np.nan]*(len(data_to_plot.index)-len(human_mouse_ortho_1_1.loc[[i for i in group_stim_low_and_DE if i in human_mouse_ortho_1_1.index]]['dnds'].index))\n",
    "\n",
    "data_to_plot[f'{treats[0]}_high']=list(human_mouse_ortho_1_1.loc[[i for i in group_unst_high_and_DE if i in human_mouse_ortho_1_1.index]]['dnds'])+[np.nan]*(len(data_to_plot.index)-len(human_mouse_ortho_1_1.loc[[i for i in group_unst_high_and_DE if i in human_mouse_ortho_1_1.index]]['dnds'].index))\n",
    "\n",
    "data_to_plot[f'{treats[0]}_low']=list(human_mouse_ortho_1_1.loc[[i for i in group_unst_low_and_DE if i in human_mouse_ortho_1_1.index]]['dnds'])+[np.nan]*(len(data_to_plot.index)-len(human_mouse_ortho_1_1.loc[[i for i in group_unst_low_and_DE if i in human_mouse_ortho_1_1.index]]['dnds'].index))\n"
   ]
  },
  {
   "cell_type": "code",
   "execution_count": 21,
   "id": "4212c95a",
   "metadata": {},
   "outputs": [
    {
     "data": {
      "text/html": [
       "<div>\n",
       "<style scoped>\n",
       "    .dataframe tbody tr th:only-of-type {\n",
       "        vertical-align: middle;\n",
       "    }\n",
       "\n",
       "    .dataframe tbody tr th {\n",
       "        vertical-align: top;\n",
       "    }\n",
       "\n",
       "    .dataframe thead th {\n",
       "        text-align: right;\n",
       "    }\n",
       "</style>\n",
       "<table border=\"1\" class=\"dataframe\">\n",
       "  <thead>\n",
       "    <tr style=\"text-align: right;\">\n",
       "      <th></th>\n",
       "      <th>All_1-1_orthologs</th>\n",
       "      <th>rest of DE genes</th>\n",
       "      <th>STIM-high</th>\n",
       "      <th>STIM-low</th>\n",
       "      <th>UNST-high</th>\n",
       "      <th>UNST-low</th>\n",
       "    </tr>\n",
       "  </thead>\n",
       "  <tbody>\n",
       "    <tr>\n",
       "      <th>0</th>\n",
       "      <td>NaN</td>\n",
       "      <td>NaN</td>\n",
       "      <td>0.033947</td>\n",
       "      <td>0.279611</td>\n",
       "      <td>0.111838</td>\n",
       "      <td>0.010037</td>\n",
       "    </tr>\n",
       "    <tr>\n",
       "      <th>1</th>\n",
       "      <td>NaN</td>\n",
       "      <td>NaN</td>\n",
       "      <td>0.161189</td>\n",
       "      <td>0.099902</td>\n",
       "      <td>0.073092</td>\n",
       "      <td>0.477066</td>\n",
       "    </tr>\n",
       "    <tr>\n",
       "      <th>2</th>\n",
       "      <td>NaN</td>\n",
       "      <td>NaN</td>\n",
       "      <td>0.248153</td>\n",
       "      <td>0.217873</td>\n",
       "      <td>0.159175</td>\n",
       "      <td>0.324989</td>\n",
       "    </tr>\n",
       "    <tr>\n",
       "      <th>3</th>\n",
       "      <td>NaN</td>\n",
       "      <td>NaN</td>\n",
       "      <td>0.049781</td>\n",
       "      <td>0.119410</td>\n",
       "      <td>0.212016</td>\n",
       "      <td>0.074459</td>\n",
       "    </tr>\n",
       "    <tr>\n",
       "      <th>4</th>\n",
       "      <td>0.574410</td>\n",
       "      <td>0.57441</td>\n",
       "      <td>0.129884</td>\n",
       "      <td>0.037601</td>\n",
       "      <td>0.093876</td>\n",
       "      <td>0.542847</td>\n",
       "    </tr>\n",
       "    <tr>\n",
       "      <th>...</th>\n",
       "      <td>...</td>\n",
       "      <td>...</td>\n",
       "      <td>...</td>\n",
       "      <td>...</td>\n",
       "      <td>...</td>\n",
       "      <td>...</td>\n",
       "    </tr>\n",
       "    <tr>\n",
       "      <th>16529</th>\n",
       "      <td>0.055250</td>\n",
       "      <td>NaN</td>\n",
       "      <td>NaN</td>\n",
       "      <td>NaN</td>\n",
       "      <td>NaN</td>\n",
       "      <td>NaN</td>\n",
       "    </tr>\n",
       "    <tr>\n",
       "      <th>16530</th>\n",
       "      <td>0.062044</td>\n",
       "      <td>NaN</td>\n",
       "      <td>NaN</td>\n",
       "      <td>NaN</td>\n",
       "      <td>NaN</td>\n",
       "      <td>NaN</td>\n",
       "    </tr>\n",
       "    <tr>\n",
       "      <th>16531</th>\n",
       "      <td>0.261235</td>\n",
       "      <td>NaN</td>\n",
       "      <td>NaN</td>\n",
       "      <td>NaN</td>\n",
       "      <td>NaN</td>\n",
       "      <td>NaN</td>\n",
       "    </tr>\n",
       "    <tr>\n",
       "      <th>16532</th>\n",
       "      <td>0.119188</td>\n",
       "      <td>NaN</td>\n",
       "      <td>NaN</td>\n",
       "      <td>NaN</td>\n",
       "      <td>NaN</td>\n",
       "      <td>NaN</td>\n",
       "    </tr>\n",
       "    <tr>\n",
       "      <th>16533</th>\n",
       "      <td>0.290898</td>\n",
       "      <td>NaN</td>\n",
       "      <td>NaN</td>\n",
       "      <td>NaN</td>\n",
       "      <td>NaN</td>\n",
       "      <td>NaN</td>\n",
       "    </tr>\n",
       "  </tbody>\n",
       "</table>\n",
       "<p>16534 rows × 6 columns</p>\n",
       "</div>"
      ],
      "text/plain": [
       "       All_1-1_orthologs  rest of DE genes  STIM-high  STIM-low  UNST-high  \\\n",
       "0                    NaN               NaN   0.033947  0.279611   0.111838   \n",
       "1                    NaN               NaN   0.161189  0.099902   0.073092   \n",
       "2                    NaN               NaN   0.248153  0.217873   0.159175   \n",
       "3                    NaN               NaN   0.049781  0.119410   0.212016   \n",
       "4               0.574410           0.57441   0.129884  0.037601   0.093876   \n",
       "...                  ...               ...        ...       ...        ...   \n",
       "16529           0.055250               NaN        NaN       NaN        NaN   \n",
       "16530           0.062044               NaN        NaN       NaN        NaN   \n",
       "16531           0.261235               NaN        NaN       NaN        NaN   \n",
       "16532           0.119188               NaN        NaN       NaN        NaN   \n",
       "16533           0.290898               NaN        NaN       NaN        NaN   \n",
       "\n",
       "       UNST-low  \n",
       "0      0.010037  \n",
       "1      0.477066  \n",
       "2      0.324989  \n",
       "3      0.074459  \n",
       "4      0.542847  \n",
       "...         ...  \n",
       "16529       NaN  \n",
       "16530       NaN  \n",
       "16531       NaN  \n",
       "16532       NaN  \n",
       "16533       NaN  \n",
       "\n",
       "[16534 rows x 6 columns]"
      ]
     },
     "execution_count": 21,
     "metadata": {},
     "output_type": "execute_result"
    }
   ],
   "source": [
    "data_to_plot_new=data_to_plot[['rest_1_1_orthos','rest_DE_genes',f'{treats[1]}_high',f'{treats[1]}_low',f'{treats[0]}_high',f'{treats[0]}_low']]\n",
    "\n",
    "data_to_plot_new\n",
    "\n",
    "data_to_plot_new.rename(columns={'rest_1_1_orthos':'All_1-1_orthologs','rest_DE_genes':'rest of DE genes','PIC4_high':'STIM-high','PIC4_low':'STIM-low','LF4_high':'UNST-high','LF4_low':'UNST-low' },inplace=True)\n",
    "data_to_plot_new"
   ]
  },
  {
   "cell_type": "code",
   "execution_count": 36,
   "id": "0596ced4",
   "metadata": {},
   "outputs": [
    {
     "name": "stdout",
     "output_type": "stream",
     "text": [
      "rest of DE genes\n",
      "1394\n",
      "STIM-high\n",
      "212\n",
      "STIM-low\n",
      "160\n",
      "UNST-high\n",
      "99\n",
      "UNST-low\n",
      "78\n"
     ]
    }
   ],
   "source": [
    "print('rest of DE genes')\n",
    "print(len(data_to_plot_new['rest of DE genes'].dropna()))\n",
    "print('STIM-high')\n",
    "print(len(data_to_plot_new['STIM-high'].dropna()))\n",
    "\n",
    "print('STIM-low')\n",
    "print(len(data_to_plot_new['STIM-low'].dropna()))\n",
    "\n",
    "print('UNST-high')\n",
    "print(len(data_to_plot_new['UNST-high'].dropna()))\n",
    "\n",
    "print('UNST-low')\n",
    "print(len(data_to_plot_new['UNST-low'].dropna()))\n"
   ]
  },
  {
   "cell_type": "code",
   "execution_count": 22,
   "id": "c69c05a6",
   "metadata": {},
   "outputs": [
    {
     "name": "stderr",
     "output_type": "stream",
     "text": [
      "C:\\Users\\TzachiHNB6\\AppData\\Local\\Temp\\ipykernel_6100\\1452054445.py:16: UserWarning: set_ticklabels() should only be used with a fixed number of ticks, i.e. after set_ticks() or using a FixedLocator.\n",
      "  ax.set_xticklabels(labels=['All_1-1_orthologs','DE genes','human \\nconstitutive-low','mouse \\nconstitutive-low','mouse \\nconstitutive-high','human \\nconstitutive-high' ])# old: sns.boxplot(data=human_mouse_ortho_1_1,x='group',y='p_identity',order=['rest_1_1_orthos','rest_DE_genes','PIC4_high','PIC4_low','LF4_high','LF4_low'],palette='pastel')\n"
     ]
    },
    {
     "data": {
      "image/png": "[encoded data removed]",
      "text/plain": [
       "<Figure size 720x864 with 1 Axes>"
      ]
     },
     "metadata": {
      "needs_background": "light"
     },
     "output_type": "display_data"
    },
    {
     "name": "stdout",
     "output_type": "stream",
     "text": [
      "mann DE_PIC_high\n",
      "MannwhitneyuResult(statistic=140133.0, pvalue=0.11257792236560121)\n",
      "mann DE_PIC_low\n",
      "MannwhitneyuResult(statistic=96463.0, pvalue=0.00255002593043862)\n",
      "mann DE_LF_high\n",
      "MannwhitneyuResult(statistic=80516.5, pvalue=0.9972631345224309)\n",
      "mann DE_LF_low\n",
      "MannwhitneyuResult(statistic=54996.0, pvalue=0.5685100283884033)\n",
      "FDR\n",
      "[DE_PIC_high, DE_PIC_low, DE_LF_high, DE_LF_low]\n",
      "[0.11257792236560121, 0.00255002593043862, 0.9972631345224309, 0.5685100283884033]\n",
      "[0.22515584 0.0102001  0.99726313 0.75801337]\n"
     ]
    }
   ],
   "source": [
    "data=data_to_plot_new.copy()\n",
    "fig=plt.figure(figsize=(10,12))\n",
    "\n",
    "my_pal = {\"All_1-1_orthologs\" :\"darkgrey\",\n",
    "    \"rest of DE genes\": \"grey\",\n",
    "              \"STIM-high\": stim_high_col, \"STIM-low\": stim_low_col,\n",
    "          \"UNST-high\": unst_high_col, \"UNST-low\": unst_low_col\n",
    "             }\n",
    "\n",
    "pvals_for_FDR=[]\n",
    "\n",
    "ax=sns.boxplot(data=data,order=['All_1-1_orthologs','rest of DE genes','STIM-high','STIM-low','UNST-high','UNST-low'],palette=my_pal,width=0.7,showfliers = False)\n",
    "# old: sns.boxplot(data=human_mouse_ortho_1_1,x='group',y='p_identity',order=['rest_1_1_orthos','rest_DE_genes','PIC4_high','PIC4_low','LF4_high','LF4_low'],palette='pastel')\n",
    "sns.despine(offset=10, trim=False,fig=fig)\n",
    "\n",
    "ax.set_xticklabels(labels=['All_1-1_orthologs','DE genes','human \\nconstitutive-low','mouse \\nconstitutive-low','mouse \\nconstitutive-high','human \\nconstitutive-high' ])# old: sns.boxplot(data=human_mouse_ortho_1_1,x='group',y='p_identity',order=['rest_1_1_orthos','rest_DE_genes','PIC4_high','PIC4_low','LF4_high','LF4_low'],palette='pastel')\n",
    "\n",
    "plt.tick_params(axis='x', which='both', labelsize=14,labelrotation=45)\n",
    "plt.tick_params(axis='y',labelsize =14)\n",
    "\n",
    "\n",
    "plt.ylabel('dn/ds',fontsize=20)\n",
    "plt.savefig(r\"C:\\Users\\TzachiHNB6\\Documents\\lilach's paper\\fig6\\figures\\dnds.pdf\")\n",
    "plt.savefig(r\"C:\\Users\\TzachiHNB6\\Documents\\lilach's paper\\fig6\\figures\\dnds.png\")\n",
    "\n",
    "plt.show()\n",
    "\n",
    "mann_w=scipy.stats.mannwhitneyu(x=data['rest of DE genes'].dropna(), y=data['STIM-high'].dropna(),alternative='less')\n",
    "#mann_w=scipy.stats.mannwhitneyu(x=data[data['group']=='rest_DE_genes']['p_identity'], y=data[data['group']=='PIC4_high']['p_identity'])\n",
    "print('mann DE_PIC_high')\n",
    "print(mann_w)\n",
    "pvals_for_FDR.append(mann_w[1])\n",
    "\n",
    "\n",
    "mann_w=scipy.stats.mannwhitneyu(x=data['rest of DE genes'].dropna(), y=data['STIM-low'].dropna(),alternative='less')\n",
    "#mann_w=scipy.stats.mannwhitneyu(x=data[data['group']=='rest_DE_genes']['p_identity'], y=data[data['group']=='PIC4_low']['p_identity'])\n",
    "print('mann DE_PIC_low')\n",
    "print(mann_w)\n",
    "pvals_for_FDR.append(mann_w[1])\n",
    "\n",
    "\n",
    "\n",
    "mann_w=scipy.stats.mannwhitneyu(x=data['rest of DE genes'].dropna(), y=data['UNST-high'].dropna(),alternative='less')\n",
    "#mann_w=scipy.stats.mannwhitneyu(x=data[data['group']=='rest_DE_genes']['p_identity'], y=data[data['group']=='LF4_high']['p_identity'])\n",
    "print('mann DE_LF_high')\n",
    "print(mann_w)\n",
    "pvals_for_FDR.append(mann_w[1])\n",
    "\n",
    "\n",
    "\n",
    "mann_w=scipy.stats.mannwhitneyu(x=data['rest of DE genes'].dropna(), y=data['UNST-low'].dropna(),alternative='less')\n",
    "#mann_w=scipy.stats.mannwhitneyu(x=data[data['group']=='rest_DE_genes']['p_identity'], y=data[data['group']=='LF4_low']['p_identity'])\n",
    "print('mann DE_LF_low')\n",
    "print(mann_w)\n",
    "pvals_for_FDR.append(mann_w[1])\n",
    "\n",
    "\n",
    "# when we had the 1-1 orthos inside.... \n",
    "####mann_w=scipy.stats.mannwhitneyu(x=data['rest_1_1_orthos'].dropna(), y=data['rest_DE_genes'].dropna(),alternative='greater')\n",
    "#mann_w=scipy.stats.mannwhitneyu(x=data[data['group']=='rest_DE_genes']['p_identity'], y=data[data['group']=='LF4_low']['p_identity'])\n",
    "####print('mann DE_nonDE(all)')\n",
    "####print(mann_w)\n",
    "\n",
    "\n",
    "print('FDR')\n",
    "print('[DE_PIC_high, DE_PIC_low, DE_LF_high, DE_LF_low]')\n",
    "print(pvals_for_FDR)\n",
    "from statsmodels.stats.multitest import fdrcorrection\n",
    "rejected, qvalue = fdrcorrection(pvals_for_FDR,method='indep')\n",
    "print(qvalue)\n"
   ]
  },
  {
   "cell_type": "code",
   "execution_count": null,
   "id": "1d26cc3a",
   "metadata": {},
   "outputs": [],
   "source": []
  }
 ],
 "metadata": {
  "kernelspec": {
   "display_name": "Python 3 (ipykernel)",
   "language": "python",
   "name": "python3"
  },
  "language_info": {
   "codemirror_mode": {
    "name": "ipython",
    "version": 3
   },
   "file_extension": ".py",
   "mimetype": "text/x-python",
   "name": "python",
   "nbconvert_exporter": "python",
   "pygments_lexer": "ipython3",
   "version": "3.9.7"
  },
  "toc": {
   "base_numbering": 1,
   "nav_menu": {},
   "number_sections": true,
   "sideBar": true,
   "skip_h1_title": false,
   "title_cell": "Table of Contents",
   "title_sidebar": "Contents",
   "toc_cell": false,
   "toc_position": {},
   "toc_section_display": true,
   "toc_window_display": false
  }
 },
 "nbformat": 4,
 "nbformat_minor": 5
}
