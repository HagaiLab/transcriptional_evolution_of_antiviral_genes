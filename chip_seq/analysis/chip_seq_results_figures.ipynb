{
 "cells": [
  {
   "cell_type": "code",
   "execution_count": 4,
   "metadata": {},
   "outputs": [],
   "source": [
    "import pandas as pd\n",
    "import numpy as np\n",
    "import seaborn as sns\n",
    "import matplotlib as mpl\n",
    "import matplotlib.pylab as plt\n",
    "plt.rcParams['pdf.fonttype'] = 42\n",
    "plt.rcParams['ps.fonttype'] = 42\n"
   ]
  },
  {
   "cell_type": "code",
   "execution_count": 5,
   "metadata": {},
   "outputs": [],
   "source": [
    "\n",
    "stim_high_col='#88419d'\n",
    "stim_other_col='#8c97c6'\n",
    "stim_low_col='#c0d4e6'\n",
    "\n",
    "\n",
    "unst_high_col='#2b8cbe'\n",
    "unst_other_col='#7cccc4'\n",
    "unst_low_col='#ccebc6'\n"
   ]
  },
  {
   "cell_type": "code",
   "execution_count": 6,
   "metadata": {},
   "outputs": [],
   "source": [
    "groups_names_dict={'STIM-high':'human \\nconstitutive-low',\n",
    "                   'UNST-low':'human \\nconstitutive-high',\n",
    "                   'STIM-low':'mouse \\nconstitutive-low',\n",
    "                   'UNST-high':'mouse \\nconstitutive-high'}"
   ]
  },
  {
   "cell_type": "code",
   "execution_count": 4,
   "metadata": {},
   "outputs": [],
   "source": [
    "# most new filtration 13_7"
   ]
  },
  {
   "cell_type": "code",
   "execution_count": 7,
   "metadata": {},
   "outputs": [
    {
     "data": {
      "text/html": [
       "<div>\n",
       "<style scoped>\n",
       "    .dataframe tbody tr th:only-of-type {\n",
       "        vertical-align: middle;\n",
       "    }\n",
       "\n",
       "    .dataframe tbody tr th {\n",
       "        vertical-align: top;\n",
       "    }\n",
       "\n",
       "    .dataframe thead th {\n",
       "        text-align: right;\n",
       "    }\n",
       "</style>\n",
       "<table border=\"1\" class=\"dataframe\">\n",
       "  <thead>\n",
       "    <tr style=\"text-align: right;\">\n",
       "      <th></th>\n",
       "      <th>PIC_high</th>\n",
       "      <th>PIC_low</th>\n",
       "      <th>LF_high</th>\n",
       "      <th>LF_low</th>\n",
       "    </tr>\n",
       "  </thead>\n",
       "  <tbody>\n",
       "    <tr>\n",
       "      <th>group_genes_%</th>\n",
       "      <td>6.250000</td>\n",
       "      <td>1.807229</td>\n",
       "      <td>7.692308</td>\n",
       "      <td>10.714286</td>\n",
       "    </tr>\n",
       "    <tr>\n",
       "      <th>rest_genes_%</th>\n",
       "      <td>1.681345</td>\n",
       "      <td>1.300689</td>\n",
       "      <td>1.022644</td>\n",
       "      <td>1.151908</td>\n",
       "    </tr>\n",
       "  </tbody>\n",
       "</table>\n",
       "</div>"
      ],
      "text/plain": [
       "               PIC_high   PIC_low   LF_high     LF_low\n",
       "group_genes_%  6.250000  1.807229  7.692308  10.714286\n",
       "rest_genes_%   1.681345  1.300689  1.022644   1.151908"
      ]
     },
     "execution_count": 7,
     "metadata": {},
     "output_type": "execute_result"
    }
   ],
   "source": [
    "#new pers\n",
    "\n",
    "data_to_plot=pd.DataFrame({'PIC_high':{'group_genes_%':6.25 , 'rest_genes_%':1.681345076},\n",
    "                           'PIC_low':{'group_genes_%':1.807229 , 'rest_genes_%':1.3006886},\n",
    "                           'LF_high':{'group_genes_%':7.692307692 , 'rest_genes_%':1.022644266},\n",
    "                           'LF_low':{'group_genes_%':10.71428571 , 'rest_genes_%':1.151907847}\n",
    "                          },index=None)\n",
    "data_to_plot\n",
    "\n",
    "\n"
   ]
  },
  {
   "cell_type": "markdown",
   "metadata": {},
   "source": [
    "# old percentages with chip-seq bug\n",
    "data_to_plot=pd.DataFrame({'PIC_high':{'group_genes_%':4.464286 , 'rest_genes_%':1.361089},\n",
    "                           'PIC_low':{'group_genes_%':1.807229 , 'rest_genes_%':1.147666},\n",
    "                           'LF_high':{'group_genes_%':4.807692 , 'rest_genes_%':0.876552},\n",
    "                           'LF_low':{'group_genes_%':5.952381 , 'rest_genes_%':0.935925}\n",
    "                          },index=None)\n",
    "data_to_plot"
   ]
  },
  {
   "cell_type": "code",
   "execution_count": 8,
   "metadata": {},
   "outputs": [
    {
     "data": {
      "text/html": [
       "<div>\n",
       "<style scoped>\n",
       "    .dataframe tbody tr th:only-of-type {\n",
       "        vertical-align: middle;\n",
       "    }\n",
       "\n",
       "    .dataframe tbody tr th {\n",
       "        vertical-align: top;\n",
       "    }\n",
       "\n",
       "    .dataframe thead th {\n",
       "        text-align: right;\n",
       "    }\n",
       "</style>\n",
       "<table border=\"1\" class=\"dataframe\">\n",
       "  <thead>\n",
       "    <tr style=\"text-align: right;\">\n",
       "      <th></th>\n",
       "      <th>PIC_high</th>\n",
       "      <th>PIC_low</th>\n",
       "      <th>LF_high</th>\n",
       "      <th>LF_low</th>\n",
       "      <th>group_%</th>\n",
       "    </tr>\n",
       "  </thead>\n",
       "  <tbody>\n",
       "    <tr>\n",
       "      <th>group_genes_%</th>\n",
       "      <td>6.250000</td>\n",
       "      <td>1.807229</td>\n",
       "      <td>7.692308</td>\n",
       "      <td>10.714286</td>\n",
       "      <td>group_genes_%</td>\n",
       "    </tr>\n",
       "    <tr>\n",
       "      <th>rest_genes_%</th>\n",
       "      <td>1.681345</td>\n",
       "      <td>1.300689</td>\n",
       "      <td>1.022644</td>\n",
       "      <td>1.151908</td>\n",
       "      <td>rest_genes_%</td>\n",
       "    </tr>\n",
       "  </tbody>\n",
       "</table>\n",
       "</div>"
      ],
      "text/plain": [
       "               PIC_high   PIC_low   LF_high     LF_low        group_%\n",
       "group_genes_%  6.250000  1.807229  7.692308  10.714286  group_genes_%\n",
       "rest_genes_%   1.681345  1.300689  1.022644   1.151908   rest_genes_%"
      ]
     },
     "execution_count": 8,
     "metadata": {},
     "output_type": "execute_result"
    }
   ],
   "source": [
    "data_to_plot['group_%'] = data_to_plot.index\n",
    "data_to_plot"
   ]
  },
  {
   "cell_type": "code",
   "execution_count": 9,
   "metadata": {},
   "outputs": [],
   "source": [
    "data_to_plot.rename(columns={'group_%':'%','PIC_high':'STIM-high','PIC_low':'STIM-low','LF_high':'UNST-high','LF_low':'UNST-low' }, index={'group_genes_%': \"group's genes\" , 'rest_genes_%': \"rest genes\"},inplace=True)\n",
    "data_to_plot.replace('group_genes_%',\"group's genes\",inplace=True)\n",
    "data_to_plot.replace('rest_genes_%',\"rest genes\",inplace=True)\n"
   ]
  },
  {
   "cell_type": "code",
   "execution_count": 10,
   "metadata": {},
   "outputs": [],
   "source": [
    "data_to_plot=data_to_plot.melt(id_vars='%')"
   ]
  },
  {
   "cell_type": "code",
   "execution_count": 11,
   "metadata": {},
   "outputs": [
    {
     "data": {
      "image/png": "[encoded data removed]",
      "text/plain": [
       "<Figure size 432x576 with 1 Axes>"
      ]
     },
     "metadata": {
      "needs_background": "light"
     },
     "output_type": "display_data"
    }
   ],
   "source": [
    "fig=plt.figure(figsize=(6,8))\n",
    "#order=['STIM-high','STIM-low','UNST-high','UNST-low']\n",
    "order=['STIM-high','UNST-low','STIM-low','UNST-high']\n",
    "ax=sns.barplot(data=data_to_plot,x='variable',y='value',hue='%',color='grey',order=order)#.set(xlabel=None, ylable='%',xticklabels=['human constitutive-low','mouse constitutive-low','mouse constitutive-high','human constitutive-high' ])\n",
    "ax.set_xticklabels(labels=[groups_names_dict[i] for i in order])\n",
    "sns.despine(offset=10, trim=False, fig=fig)\n",
    "\n",
    "#plt.yticks( fontsize=20)\n",
    "\n",
    "#plt.tick_params(which='both',labelsize=20)\n",
    "ax.tick_params(axis='x', rotation=45,labelsize=20)\n",
    "\n",
    "#plt.xticks(rotation=90, fontsize=20)\n",
    "\n",
    "\n",
    "plt.ylabel('%',fontsize=26)\n",
    "plt.xlabel('',fontsize=20)\n",
    "\n",
    "\n",
    "\n",
    "box1=ax.patches[0]\n",
    "box1.set_facecolor(stim_high_col)\n",
    "box2=ax.patches[1]\n",
    "box2.set_facecolor(unst_low_col)\n",
    "box3=ax.patches[2]\n",
    "box3.set_facecolor(stim_low_col)\n",
    "box4=ax.patches[3]\n",
    "box4.set_facecolor(unst_high_col)\n",
    "\n",
    "\n",
    " #   box4=axs[0].patches[5]\n",
    "  #  box4.set_facecolor(mus_stim_col)\n",
    "   # axs[0].get_legend().remove()\n",
    "plt.savefig(r'figure_output\\persentage_barplot.pdf')\n",
    "plt.savefig(r'figure_output\\persentage_barplot.png')\n"
   ]
  },
  {
   "cell_type": "code",
   "execution_count": 12,
   "metadata": {},
   "outputs": [
    {
     "name": "stdout",
     "output_type": "stream",
     "text": [
      "human-const-low\n",
      "stim-high\n",
      "0.000280169\n",
      "0.00037355866666666666\n",
      "\n",
      "mouse-const-low\n",
      "stim-low\n",
      "0.485864051\n",
      "0.485864051\n",
      "\n",
      "mouse-const-high\n",
      "unst-high\n",
      "6.6e-05\n",
      "0.000132\n",
      "\n",
      "human-const-high\n",
      "unt-low\n",
      "4.02e-06\n",
      "1.608e-05\n",
      "\n"
     ]
    }
   ],
   "source": [
    "from statsmodels.stats.multitest import fdrcorrection\n",
    "# old with the bug! : pvals_for_FDR=[0.004221,0.445739,0.004976,0.002546]\n",
    "pvals_for_FDR=[0.000280169,0.485864051,6.60E-05,4.02E-06]\n",
    "rejected, qvalue_PIC = fdrcorrection(pvals_for_FDR,method='indep')\n",
    "new_names=['human-const-low', 'mouse-const-low','mouse-const-high', 'human-const-high']\n",
    "old_names=['stim-high','stim-low','unst-high','unt-low']\n",
    "for i in range(len(new_names)):\n",
    "    print(new_names[i])\n",
    "    print(old_names[i])\n",
    "    print(pvals_for_FDR[i])\n",
    "    print(qvalue_PIC[i])\n",
    "\n",
    "    print()\n"
   ]
  },
  {
   "cell_type": "code",
   "execution_count": null,
   "metadata": {},
   "outputs": [],
   "source": []
  },
  {
   "cell_type": "code",
   "execution_count": null,
   "metadata": {},
   "outputs": [],
   "source": []
  },
  {
   "cell_type": "code",
   "execution_count": null,
   "metadata": {},
   "outputs": [],
   "source": []
  },
  {
   "cell_type": "code",
   "execution_count": null,
   "metadata": {},
   "outputs": [],
   "source": []
  }
 ],
 "metadata": {
  "kernelspec": {
   "display_name": "Python 3",
   "language": "python",
   "name": "python3"
  },
  "language_info": {
   "codemirror_mode": {
    "name": "ipython",
    "version": 3
   },
   "file_extension": ".py",
   "mimetype": "text/x-python",
   "name": "python",
   "nbconvert_exporter": "python",
   "pygments_lexer": "ipython3",
   "version": "3.8.5"
  },
  "toc": {
   "base_numbering": 1,
   "nav_menu": {},
   "number_sections": true,
   "sideBar": true,
   "skip_h1_title": false,
   "title_cell": "Table of Contents",
   "title_sidebar": "Contents",
   "toc_cell": false,
   "toc_position": {},
   "toc_section_display": true,
   "toc_window_display": false
  }
 },
 "nbformat": 4,
 "nbformat_minor": 5
}
